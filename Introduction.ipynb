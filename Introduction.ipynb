{
 "cells": [
  {
   "cell_type": "markdown",
   "id": "2436743a-705e-4752-acdf-a49a85b72408",
   "metadata": {},
   "source": [
    "This is a project needed to complete the IBM Tools For Data Science Course in Coursera,\n",
    "it present all learned in this course."
   ]
  }
 ],
 "metadata": {
  "kernelspec": {
   "display_name": "Python",
   "language": "python",
   "name": "conda-env-python-py"
  },
  "language_info": {
   "codemirror_mode": {
    "name": "ipython",
    "version": 3
   },
   "file_extension": ".py",
   "mimetype": "text/x-python",
   "name": "python",
   "nbconvert_exporter": "python",
   "pygments_lexer": "ipython3",
   "version": "3.7.12"
  }
 },
 "nbformat": 4,
 "nbformat_minor": 5
}
