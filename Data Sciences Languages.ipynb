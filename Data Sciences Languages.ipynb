{
 "cells": [
  {
   "cell_type": "markdown",
   "id": "290d0bc9-aeab-45dc-a49e-69f8bb912c7f",
   "metadata": {},
   "source": [
    "There are Many Data Sciences Languages in use in the actual date.\n",
    "In this Note i am presenting the most used in Data Science.\n",
    "\n",
    "### Languages\n",
    "\n",
    "1-Python\n",
    "\n",
    "2-R\n",
    "\n",
    "3-SQL\n",
    "\n",
    "4-Java\n",
    "\n",
    "5-Julia\n",
    "\n",
    "6-Scala\n",
    "\n",
    "7-C/C++\n",
    "\n",
    "There exist many other."
   ]
  }
 ],
 "metadata": {
  "kernelspec": {
   "display_name": "Python",
   "language": "python",
   "name": "conda-env-python-py"
  },
  "language_info": {
   "codemirror_mode": {
    "name": "ipython",
    "version": 3
   },
   "file_extension": ".py",
   "mimetype": "text/x-python",
   "name": "python",
   "nbconvert_exporter": "python",
   "pygments_lexer": "ipython3",
   "version": "3.7.12"
  }
 },
 "nbformat": 4,
 "nbformat_minor": 5
}
