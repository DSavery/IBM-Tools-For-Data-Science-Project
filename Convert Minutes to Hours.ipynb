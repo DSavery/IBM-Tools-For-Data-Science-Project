{
 "cells": [
  {
   "cell_type": "markdown",
   "id": "80631941-70ee-40db-8b3f-d46f30ac49b5",
   "metadata": {},
   "source": [
    "Converting 145 Minutes To Hours"
   ]
  },
  {
   "cell_type": "code",
   "execution_count": 1,
   "id": "42d321cb-4ee5-43fe-88d7-eb9f58a3755b",
   "metadata": {},
   "outputs": [
    {
     "data": {
      "text/plain": [
       "2.4166666666666665"
      ]
     },
     "execution_count": 1,
     "metadata": {},
     "output_type": "execute_result"
    }
   ],
   "source": [
    "145*(1/60)"
   ]
  }
 ],
 "metadata": {
  "kernelspec": {
   "display_name": "Python",
   "language": "python",
   "name": "conda-env-python-py"
  },
  "language_info": {
   "codemirror_mode": {
    "name": "ipython",
    "version": 3
   },
   "file_extension": ".py",
   "mimetype": "text/x-python",
   "name": "python",
   "nbconvert_exporter": "python",
   "pygments_lexer": "ipython3",
   "version": "3.7.12"
  }
 },
 "nbformat": 4,
 "nbformat_minor": 5
}
