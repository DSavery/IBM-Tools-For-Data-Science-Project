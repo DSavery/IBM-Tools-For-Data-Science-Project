{
 "cells": [
  {
   "cell_type": "markdown",
   "id": "6f584a27-8706-46e4-9a5a-805dcf8ccebe",
   "metadata": {},
   "source": [
    "There are Many Data Sciences Languages in use in the actual date.\n",
    "In this Note i am presenting the most used in Data Science.\n"
   ]
  },
  {
   "cell_type": "markdown",
   "id": "31794422-0120-4f20-baa9-f1e525b14d6b",
   "metadata": {},
   "source": [
    "\n",
    "###  Tools \n",
    "| TensorFlow | Jupyter Notebooks | MySQL | RStudio | Apache Spark |\n",
    "| ---- | ---- | ---- | ---- | ---- |"
   ]
  }
 ],
 "metadata": {
  "kernelspec": {
   "display_name": "Python",
   "language": "python",
   "name": "conda-env-python-py"
  },
  "language_info": {
   "codemirror_mode": {
    "name": "ipython",
    "version": 3
   },
   "file_extension": ".py",
   "mimetype": "text/x-python",
   "name": "python",
   "nbconvert_exporter": "python",
   "pygments_lexer": "ipython3",
   "version": "3.7.12"
  }
 },
 "nbformat": 4,
 "nbformat_minor": 5
}
