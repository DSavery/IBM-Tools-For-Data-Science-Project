{
 "cells": [
  {
   "cell_type": "markdown",
   "id": "9402d06b-68f8-4a05-9807-db5dbd94b4f0",
   "metadata": {},
   "source": [
    "Arithmetic expressions consist of arithmetic terms that are combined by arithmetic operations.\n",
    "\n",
    "An arithmetic expression consists of arithmetic terms, such as x, x2, xy, or 3xy2, combined by arithmetic operations, such as addition, subtraction, multiplication, and division.\n",
    "\n",
    "Examples\n",
    "3+8 = 11\n",
    "7-6 = 1\n",
    "6/2 = 3"
   ]
  }
 ],
 "metadata": {
  "kernelspec": {
   "display_name": "Python",
   "language": "python",
   "name": "conda-env-python-py"
  },
  "language_info": {
   "codemirror_mode": {
    "name": "ipython",
    "version": 3
   },
   "file_extension": ".py",
   "mimetype": "text/x-python",
   "name": "python",
   "nbconvert_exporter": "python",
   "pygments_lexer": "ipython3",
   "version": "3.7.12"
  }
 },
 "nbformat": 4,
 "nbformat_minor": 5
}
