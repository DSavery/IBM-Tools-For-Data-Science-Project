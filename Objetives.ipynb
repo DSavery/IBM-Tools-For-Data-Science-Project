{
 "cells": [
  {
   "cell_type": "markdown",
   "id": "caeef289-2b83-4c30-ba23-593c240359eb",
   "metadata": {},
   "source": [
    "### Objectives"
   ]
  },
  {
   "cell_type": "markdown",
   "id": "8d45933f-5cb5-4e77-b42f-a7bcfc4f0ed4",
   "metadata": {},
   "source": [
    "Complete a variety of task to know how well i get the topics and exercises in this course."
   ]
  }
 ],
 "metadata": {
  "kernelspec": {
   "display_name": "Python",
   "language": "python",
   "name": "conda-env-python-py"
  },
  "language_info": {
   "codemirror_mode": {
    "name": "ipython",
    "version": 3
   },
   "file_extension": ".py",
   "mimetype": "text/x-python",
   "name": "python",
   "nbconvert_exporter": "python",
   "pygments_lexer": "ipython3",
   "version": "3.7.12"
  }
 },
 "nbformat": 4,
 "nbformat_minor": 5
}
