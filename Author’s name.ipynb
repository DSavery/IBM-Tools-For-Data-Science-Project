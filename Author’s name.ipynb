{
 "cells": [
  {
   "cell_type": "markdown",
   "id": "4a28f6ab-7b0d-424d-a241-edd9d8b325b9",
   "metadata": {},
   "source": [
    "### Author’s name"
   ]
  },
  {
   "cell_type": "markdown",
   "id": "2c355a72-8e4c-48f3-b628-4bb4ec487aa1",
   "metadata": {},
   "source": [
    "David Savery"
   ]
  }
 ],
 "metadata": {
  "kernelspec": {
   "display_name": "Python",
   "language": "python",
   "name": "conda-env-python-py"
  },
  "language_info": {
   "codemirror_mode": {
    "name": "ipython",
    "version": 3
   },
   "file_extension": ".py",
   "mimetype": "text/x-python",
   "name": "python",
   "nbconvert_exporter": "python",
   "pygments_lexer": "ipython3",
   "version": "3.7.12"
  }
 },
 "nbformat": 4,
 "nbformat_minor": 5
}
